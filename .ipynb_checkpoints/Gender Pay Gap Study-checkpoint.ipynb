{
 "cells": [
  {
   "cell_type": "markdown",
   "id": "207d5f1a",
   "metadata": {},
   "source": [
    "CIVIL-465 Resarch Project: Women empowerment project\n",
    "=====\n",
    "\n",
    "Gender pay gap study\n",
    "---------------------------------------------------------------------\n",
    "\n",
    "created by Justine Bourdette on 26.10.2021"
   ]
  },
  {
   "cell_type": "markdown",
   "id": "e95b7985",
   "metadata": {},
   "source": [
    "# Description\n",
    "\n",
    "In the scope of this project on women empowerment, a first simple study is made on gender pay gap between men and women. The Ordinary Least Squares (OLS) regression method is used to determine which variables have the biggest impact on wages. The data set has been taken from the website of Glassdoor. The following variables are being used : "
   ]
  },
  {
   "cell_type": "markdown",
   "id": "c49fc42e",
   "metadata": {},
   "source": [
    "| Feature name     | Variable Type | Description \n",
    "|------------------|---------------|--------------------------------------------------------\n",
    "| Job Title        | Categorical   | Job name\n",
    "| Gender           | Categorical   | Male or Female   \n",
    "| Age              | Continuous    | Age in years\n",
    "| PerfEval         | Continuous    | Performance evaluation score between 1 and 5\n",
    "| Education        | Categorical   | Level of education (Highschool, College, Masters, PhD)\n",
    "| Dept             | Categorical   | Department  \n",
    "| Seniority        | Continuous    | Seniority (number of years worked) \n",
    "| Base Pay         | Continuous    | Annual basic pay in dollars \n",
    "| Bonus            | Continuous    | Annual bonus pay in dollars"
   ]
  },
  {
   "cell_type": "markdown",
   "id": "d2c132c2",
   "metadata": {},
   "source": [
    "# Import librairies"
   ]
  },
  {
   "cell_type": "code",
   "execution_count": 13,
   "id": "9a98fbfa",
   "metadata": {},
   "outputs": [],
   "source": [
    "import pandas as pd\n",
    "import numpy as np\n",
    "import matplotlib.pyplot as plt\n",
    "import warnings\n",
    "warnings.filterwarnings('ignore')"
   ]
  },
  {
   "cell_type": "markdown",
   "id": "e85b633f",
   "metadata": {},
   "source": [
    "# Import data"
   ]
  },
  {
   "cell_type": "code",
   "execution_count": 14,
   "id": "daf79dff",
   "metadata": {},
   "outputs": [],
   "source": [
    "data = pd.read_csv('Glassdoor_Gender_Pay_Gap.csv')"
   ]
  },
  {
   "cell_type": "code",
   "execution_count": 15,
   "id": "7e0e1a01",
   "metadata": {},
   "outputs": [
    {
     "data": {
      "text/plain": [
       "(1000, 9)"
      ]
     },
     "execution_count": 15,
     "metadata": {},
     "output_type": "execute_result"
    }
   ],
   "source": [
    "# See data shape\n",
    "\n",
    "data.shape"
   ]
  },
  {
   "cell_type": "code",
   "execution_count": 16,
   "id": "c07d02fd",
   "metadata": {},
   "outputs": [
    {
     "data": {
      "text/html": [
       "<div>\n",
       "<style scoped>\n",
       "    .dataframe tbody tr th:only-of-type {\n",
       "        vertical-align: middle;\n",
       "    }\n",
       "\n",
       "    .dataframe tbody tr th {\n",
       "        vertical-align: top;\n",
       "    }\n",
       "\n",
       "    .dataframe thead th {\n",
       "        text-align: right;\n",
       "    }\n",
       "</style>\n",
       "<table border=\"1\" class=\"dataframe\">\n",
       "  <thead>\n",
       "    <tr style=\"text-align: right;\">\n",
       "      <th></th>\n",
       "      <th>JobTitle</th>\n",
       "      <th>Gender</th>\n",
       "      <th>Age</th>\n",
       "      <th>PerfEval</th>\n",
       "      <th>Education</th>\n",
       "      <th>Dept</th>\n",
       "      <th>Seniority</th>\n",
       "      <th>BasePay</th>\n",
       "      <th>Bonus</th>\n",
       "    </tr>\n",
       "  </thead>\n",
       "  <tbody>\n",
       "    <tr>\n",
       "      <th>0</th>\n",
       "      <td>Graphic Designer</td>\n",
       "      <td>Female</td>\n",
       "      <td>18</td>\n",
       "      <td>5</td>\n",
       "      <td>College</td>\n",
       "      <td>Operations</td>\n",
       "      <td>2</td>\n",
       "      <td>42363</td>\n",
       "      <td>9938</td>\n",
       "    </tr>\n",
       "    <tr>\n",
       "      <th>1</th>\n",
       "      <td>Software Engineer</td>\n",
       "      <td>Male</td>\n",
       "      <td>21</td>\n",
       "      <td>5</td>\n",
       "      <td>College</td>\n",
       "      <td>Management</td>\n",
       "      <td>5</td>\n",
       "      <td>108476</td>\n",
       "      <td>11128</td>\n",
       "    </tr>\n",
       "    <tr>\n",
       "      <th>2</th>\n",
       "      <td>Warehouse Associate</td>\n",
       "      <td>Female</td>\n",
       "      <td>19</td>\n",
       "      <td>4</td>\n",
       "      <td>PhD</td>\n",
       "      <td>Administration</td>\n",
       "      <td>5</td>\n",
       "      <td>90208</td>\n",
       "      <td>9268</td>\n",
       "    </tr>\n",
       "    <tr>\n",
       "      <th>3</th>\n",
       "      <td>Software Engineer</td>\n",
       "      <td>Male</td>\n",
       "      <td>20</td>\n",
       "      <td>5</td>\n",
       "      <td>Masters</td>\n",
       "      <td>Sales</td>\n",
       "      <td>4</td>\n",
       "      <td>108080</td>\n",
       "      <td>10154</td>\n",
       "    </tr>\n",
       "    <tr>\n",
       "      <th>4</th>\n",
       "      <td>Graphic Designer</td>\n",
       "      <td>Male</td>\n",
       "      <td>26</td>\n",
       "      <td>5</td>\n",
       "      <td>Masters</td>\n",
       "      <td>Engineering</td>\n",
       "      <td>5</td>\n",
       "      <td>99464</td>\n",
       "      <td>9319</td>\n",
       "    </tr>\n",
       "  </tbody>\n",
       "</table>\n",
       "</div>"
      ],
      "text/plain": [
       "              JobTitle  Gender  Age  PerfEval Education            Dept  \\\n",
       "0     Graphic Designer  Female   18         5   College      Operations   \n",
       "1    Software Engineer    Male   21         5   College      Management   \n",
       "2  Warehouse Associate  Female   19         4       PhD  Administration   \n",
       "3    Software Engineer    Male   20         5   Masters           Sales   \n",
       "4     Graphic Designer    Male   26         5   Masters     Engineering   \n",
       "\n",
       "   Seniority  BasePay  Bonus  \n",
       "0          2    42363   9938  \n",
       "1          5   108476  11128  \n",
       "2          5    90208   9268  \n",
       "3          4   108080  10154  \n",
       "4          5    99464   9319  "
      ]
     },
     "execution_count": 16,
     "metadata": {},
     "output_type": "execute_result"
    }
   ],
   "source": [
    "# Visualize imported data\n",
    "\n",
    "data.head()"
   ]
  },
  {
   "cell_type": "markdown",
   "id": "bf2c1080",
   "metadata": {},
   "source": [
    "# Preprocess data"
   ]
  },
  {
   "cell_type": "code",
   "execution_count": 17,
   "id": "2e775abf",
   "metadata": {},
   "outputs": [],
   "source": [
    "# Construct age categories of interest\n",
    "\n",
    "mask_young = data['Age'] < 25 \n",
    "mask_middle = np.logical_and(data['Age'] >= 25,data['Age'] <= 45)\n",
    "mask_old = data['Age'] > 45\n",
    "\n",
    "data['Age_category'] = np.empty(data.shape[0])\n",
    "\n",
    "data['Age_category'][mask_young] = 'Young' \n",
    "data['Age_category'][mask_middle] = 'Middle' \n",
    "data['Age_category'][mask_old] = 'Old' "
   ]
  },
  {
   "cell_type": "code",
   "execution_count": 18,
   "id": "3c2c05bc",
   "metadata": {},
   "outputs": [],
   "source": [
    "# Select columns of interest\n",
    "\n",
    "data = data.loc[:,['Gender','Age_category','PerfEval','Education','Seniority','BasePay']]"
   ]
  },
  {
   "cell_type": "code",
   "execution_count": 19,
   "id": "749a2b55",
   "metadata": {},
   "outputs": [],
   "source": [
    "# Transform multilabel columns in dummies variables\n",
    "\n",
    "gender_data = pd.get_dummies(\n",
    "    data, columns=['Gender','Age_category','PerfEval','Education','Seniority'], drop_first=True)"
   ]
  },
  {
   "cell_type": "code",
   "execution_count": 20,
   "id": "8b350b4b",
   "metadata": {
    "scrolled": true
   },
   "outputs": [
    {
     "data": {
      "text/html": [
       "<div>\n",
       "<style scoped>\n",
       "    .dataframe tbody tr th:only-of-type {\n",
       "        vertical-align: middle;\n",
       "    }\n",
       "\n",
       "    .dataframe tbody tr th {\n",
       "        vertical-align: top;\n",
       "    }\n",
       "\n",
       "    .dataframe thead th {\n",
       "        text-align: right;\n",
       "    }\n",
       "</style>\n",
       "<table border=\"1\" class=\"dataframe\">\n",
       "  <thead>\n",
       "    <tr style=\"text-align: right;\">\n",
       "      <th></th>\n",
       "      <th>BasePay</th>\n",
       "      <th>Gender_Male</th>\n",
       "      <th>Age_category_Old</th>\n",
       "      <th>Age_category_Young</th>\n",
       "      <th>PerfEval_2</th>\n",
       "      <th>PerfEval_3</th>\n",
       "      <th>PerfEval_4</th>\n",
       "      <th>PerfEval_5</th>\n",
       "      <th>Education_High School</th>\n",
       "      <th>Education_Masters</th>\n",
       "      <th>Education_PhD</th>\n",
       "      <th>Seniority_2</th>\n",
       "      <th>Seniority_3</th>\n",
       "      <th>Seniority_4</th>\n",
       "      <th>Seniority_5</th>\n",
       "    </tr>\n",
       "  </thead>\n",
       "  <tbody>\n",
       "    <tr>\n",
       "      <th>0</th>\n",
       "      <td>42363</td>\n",
       "      <td>0</td>\n",
       "      <td>0</td>\n",
       "      <td>1</td>\n",
       "      <td>0</td>\n",
       "      <td>0</td>\n",
       "      <td>0</td>\n",
       "      <td>1</td>\n",
       "      <td>0</td>\n",
       "      <td>0</td>\n",
       "      <td>0</td>\n",
       "      <td>1</td>\n",
       "      <td>0</td>\n",
       "      <td>0</td>\n",
       "      <td>0</td>\n",
       "    </tr>\n",
       "    <tr>\n",
       "      <th>1</th>\n",
       "      <td>108476</td>\n",
       "      <td>1</td>\n",
       "      <td>0</td>\n",
       "      <td>1</td>\n",
       "      <td>0</td>\n",
       "      <td>0</td>\n",
       "      <td>0</td>\n",
       "      <td>1</td>\n",
       "      <td>0</td>\n",
       "      <td>0</td>\n",
       "      <td>0</td>\n",
       "      <td>0</td>\n",
       "      <td>0</td>\n",
       "      <td>0</td>\n",
       "      <td>1</td>\n",
       "    </tr>\n",
       "    <tr>\n",
       "      <th>2</th>\n",
       "      <td>90208</td>\n",
       "      <td>0</td>\n",
       "      <td>0</td>\n",
       "      <td>1</td>\n",
       "      <td>0</td>\n",
       "      <td>0</td>\n",
       "      <td>1</td>\n",
       "      <td>0</td>\n",
       "      <td>0</td>\n",
       "      <td>0</td>\n",
       "      <td>1</td>\n",
       "      <td>0</td>\n",
       "      <td>0</td>\n",
       "      <td>0</td>\n",
       "      <td>1</td>\n",
       "    </tr>\n",
       "    <tr>\n",
       "      <th>3</th>\n",
       "      <td>108080</td>\n",
       "      <td>1</td>\n",
       "      <td>0</td>\n",
       "      <td>1</td>\n",
       "      <td>0</td>\n",
       "      <td>0</td>\n",
       "      <td>0</td>\n",
       "      <td>1</td>\n",
       "      <td>0</td>\n",
       "      <td>1</td>\n",
       "      <td>0</td>\n",
       "      <td>0</td>\n",
       "      <td>0</td>\n",
       "      <td>1</td>\n",
       "      <td>0</td>\n",
       "    </tr>\n",
       "    <tr>\n",
       "      <th>4</th>\n",
       "      <td>99464</td>\n",
       "      <td>1</td>\n",
       "      <td>0</td>\n",
       "      <td>0</td>\n",
       "      <td>0</td>\n",
       "      <td>0</td>\n",
       "      <td>0</td>\n",
       "      <td>1</td>\n",
       "      <td>0</td>\n",
       "      <td>1</td>\n",
       "      <td>0</td>\n",
       "      <td>0</td>\n",
       "      <td>0</td>\n",
       "      <td>0</td>\n",
       "      <td>1</td>\n",
       "    </tr>\n",
       "  </tbody>\n",
       "</table>\n",
       "</div>"
      ],
      "text/plain": [
       "   BasePay  Gender_Male  Age_category_Old  Age_category_Young  PerfEval_2  \\\n",
       "0    42363            0                 0                   1           0   \n",
       "1   108476            1                 0                   1           0   \n",
       "2    90208            0                 0                   1           0   \n",
       "3   108080            1                 0                   1           0   \n",
       "4    99464            1                 0                   0           0   \n",
       "\n",
       "   PerfEval_3  PerfEval_4  PerfEval_5  Education_High School  \\\n",
       "0           0           0           1                      0   \n",
       "1           0           0           1                      0   \n",
       "2           0           1           0                      0   \n",
       "3           0           0           1                      0   \n",
       "4           0           0           1                      0   \n",
       "\n",
       "   Education_Masters  Education_PhD  Seniority_2  Seniority_3  Seniority_4  \\\n",
       "0                  0              0            1            0            0   \n",
       "1                  0              0            0            0            0   \n",
       "2                  0              1            0            0            0   \n",
       "3                  1              0            0            0            1   \n",
       "4                  1              0            0            0            0   \n",
       "\n",
       "   Seniority_5  \n",
       "0            0  \n",
       "1            1  \n",
       "2            1  \n",
       "3            0  \n",
       "4            1  "
      ]
     },
     "execution_count": 20,
     "metadata": {},
     "output_type": "execute_result"
    }
   ],
   "source": [
    "# Visualize modified data\n",
    "\n",
    "gender_data.head()"
   ]
  },
  {
   "cell_type": "markdown",
   "id": "ee824a11",
   "metadata": {},
   "source": [
    "# Regression analysis"
   ]
  },
  {
   "cell_type": "code",
   "execution_count": 21,
   "id": "ac227003",
   "metadata": {},
   "outputs": [],
   "source": [
    "# Import econometrics librairy\n",
    "\n",
    "import statsmodels.api as sm"
   ]
  },
  {
   "cell_type": "code",
   "execution_count": 22,
   "id": "043d888c",
   "metadata": {},
   "outputs": [],
   "source": [
    "# Separate features and target variable \n",
    "\n",
    "X = gender_data.loc[:,gender_data.columns != 'BasePay']\n",
    "y = gender_data['BasePay']"
   ]
  },
  {
   "cell_type": "code",
   "execution_count": 23,
   "id": "d85f7fb1",
   "metadata": {},
   "outputs": [
    {
     "name": "stdout",
     "output_type": "stream",
     "text": [
      "                                 OLS Regression Results                                \n",
      "=======================================================================================\n",
      "Dep. Variable:                BasePay   R-squared (uncentered):                   0.946\n",
      "Model:                            OLS   Adj. R-squared (uncentered):              0.945\n",
      "Method:                 Least Squares   F-statistic:                              1232.\n",
      "Date:                Mon, 25 Oct 2021   Prob (F-statistic):                        0.00\n",
      "Time:                        18:09:52   Log-Likelihood:                         -11451.\n",
      "No. Observations:                1000   AIC:                                  2.293e+04\n",
      "Df Residuals:                     986   BIC:                                  2.300e+04\n",
      "Df Model:                          14                                                  \n",
      "Covariance Type:            nonrobust                                                  \n",
      "=========================================================================================\n",
      "                            coef    std err          t      P>|t|      [0.025      0.975]\n",
      "-----------------------------------------------------------------------------------------\n",
      "Gender_Male            1.751e+04   1422.878     12.306      0.000    1.47e+04    2.03e+04\n",
      "Age_category_Old       3.224e+04   1519.045     21.226      0.000    2.93e+04    3.52e+04\n",
      "Age_category_Young    -4980.6062   2085.972     -2.388      0.017   -9074.060    -887.152\n",
      "PerfEval_2             2.069e+04   2116.189      9.778      0.000    1.65e+04    2.48e+04\n",
      "PerfEval_3             1.845e+04   2112.384      8.733      0.000    1.43e+04    2.26e+04\n",
      "PerfEval_4             2.086e+04   2064.000     10.108      0.000    1.68e+04    2.49e+04\n",
      "PerfEval_5             1.822e+04   2056.873      8.857      0.000    1.42e+04    2.23e+04\n",
      "Education_High School  1.858e+04   1846.164     10.064      0.000     1.5e+04    2.22e+04\n",
      "Education_Masters      2.201e+04   1918.141     11.474      0.000    1.82e+04    2.58e+04\n",
      "Education_PhD          2.431e+04   1963.690     12.382      0.000    2.05e+04    2.82e+04\n",
      "Seniority_2            3.149e+04   2056.983     15.310      0.000    2.75e+04    3.55e+04\n",
      "Seniority_3            3.905e+04   2055.776     18.996      0.000     3.5e+04    4.31e+04\n",
      "Seniority_4            5.042e+04   2144.346     23.515      0.000    4.62e+04    5.46e+04\n",
      "Seniority_5            6.165e+04   2074.322     29.721      0.000    5.76e+04    6.57e+04\n",
      "==============================================================================\n",
      "Omnibus:                       11.441   Durbin-Watson:                   1.848\n",
      "Prob(Omnibus):                  0.003   Jarque-Bera (JB):               11.714\n",
      "Skew:                           0.259   Prob(JB):                      0.00286\n",
      "Kurtosis:                       2.883   Cond. No.                         5.35\n",
      "==============================================================================\n",
      "\n",
      "Notes:\n",
      "[1] R² is computed without centering (uncentered) since the model does not contain a constant.\n",
      "[2] Standard Errors assume that the covariance matrix of the errors is correctly specified.\n"
     ]
    }
   ],
   "source": [
    "# Define and run the model\n",
    "\n",
    "mod = sm.OLS(y, X)     # Describe model\n",
    "\n",
    "res = mod.fit()        # Fit model\n",
    "\n",
    "print(res.summary())   # Summarize model"
   ]
  }
 ],
 "metadata": {
  "kernelspec": {
   "display_name": "Python 3 (ipykernel)",
   "language": "python",
   "name": "python3"
  },
  "language_info": {
   "codemirror_mode": {
    "name": "ipython",
    "version": 3
   },
   "file_extension": ".py",
   "mimetype": "text/x-python",
   "name": "python",
   "nbconvert_exporter": "python",
   "pygments_lexer": "ipython3",
   "version": "3.8.12"
  }
 },
 "nbformat": 4,
 "nbformat_minor": 5
}
